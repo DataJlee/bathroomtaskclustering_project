{
 "cells": [
  {
   "cell_type": "code",
   "execution_count": 241,
   "metadata": {},
   "outputs": [],
   "source": [
    "import pandas as pd\n",
    "import matplotlib.pyplot as plt\n",
    "import numpy as np\n",
    "from sklearn.cluster import KMeans\n",
    "from sklearn.metrics import mean_squared_error\n",
    "import itertools\n",
    "from sklearn.metrics import silhouette_samples, silhouette_score\n",
    "from scipy.sparse import csr_matrix\n",
    "from mpl_toolkits.axes_grid1 import make_axes_locatable\n",
    "import seaborn as sns\n",
    "from sklearn.preprocessing import StandardScaler\n",
    "from sklearn.preprocessing import MinMaxScaler"
   ]
  },
  {
   "cell_type": "code",
   "execution_count": 258,
   "metadata": {},
   "outputs": [
    {
     "data": {
      "text/html": [
       "<div>\n",
       "<style scoped>\n",
       "    .dataframe tbody tr th:only-of-type {\n",
       "        vertical-align: middle;\n",
       "    }\n",
       "\n",
       "    .dataframe tbody tr th {\n",
       "        vertical-align: top;\n",
       "    }\n",
       "\n",
       "    .dataframe thead th {\n",
       "        text-align: right;\n",
       "    }\n",
       "</style>\n",
       "<table border=\"1\" class=\"dataframe\">\n",
       "  <thead>\n",
       "    <tr style=\"text-align: right;\">\n",
       "      <th></th>\n",
       "      <th>HH_ID</th>\n",
       "      <th>Roll_ID</th>\n",
       "      <th>Roll_Type</th>\n",
       "      <th>Time_since_last_pull</th>\n",
       "      <th>Sheets</th>\n",
       "    </tr>\n",
       "  </thead>\n",
       "  <tbody>\n",
       "    <tr>\n",
       "      <th>0</th>\n",
       "      <td>A</td>\n",
       "      <td>1200</td>\n",
       "      <td>Small</td>\n",
       "      <td>4282.0</td>\n",
       "      <td>3.991088</td>\n",
       "    </tr>\n",
       "    <tr>\n",
       "      <th>1</th>\n",
       "      <td>A</td>\n",
       "      <td>1200</td>\n",
       "      <td>Small</td>\n",
       "      <td>2505.0</td>\n",
       "      <td>0.477180</td>\n",
       "    </tr>\n",
       "    <tr>\n",
       "      <th>2</th>\n",
       "      <td>A</td>\n",
       "      <td>1200</td>\n",
       "      <td>Small</td>\n",
       "      <td>2394.0</td>\n",
       "      <td>4.277735</td>\n",
       "    </tr>\n",
       "    <tr>\n",
       "      <th>3</th>\n",
       "      <td>A</td>\n",
       "      <td>1200</td>\n",
       "      <td>Small</td>\n",
       "      <td>14200.0</td>\n",
       "      <td>2.363388</td>\n",
       "    </tr>\n",
       "    <tr>\n",
       "      <th>4</th>\n",
       "      <td>A</td>\n",
       "      <td>1200</td>\n",
       "      <td>Small</td>\n",
       "      <td>828.0</td>\n",
       "      <td>0.314410</td>\n",
       "    </tr>\n",
       "  </tbody>\n",
       "</table>\n",
       "</div>"
      ],
      "text/plain": [
       "  HH_ID  Roll_ID Roll_Type  Time_since_last_pull    Sheets\n",
       "0     A     1200     Small                4282.0  3.991088\n",
       "1     A     1200     Small                2505.0  0.477180\n",
       "2     A     1200     Small                2394.0  4.277735\n",
       "3     A     1200     Small               14200.0  2.363388\n",
       "4     A     1200     Small                 828.0  0.314410"
      ]
     },
     "execution_count": 258,
     "metadata": {},
     "output_type": "execute_result"
    }
   ],
   "source": [
    "tis = pd.read_csv('SheetPullData.csv', usecols = ['HH_ID', 'Roll_ID', 'Roll_Type', 'Time_since_last_pull', 'Sheets'])\n",
    "tis.head()"
   ]
  },
  {
   "cell_type": "code",
   "execution_count": 76,
   "metadata": {},
   "outputs": [
    {
     "data": {
      "text/html": [
       "<div>\n",
       "<style scoped>\n",
       "    .dataframe tbody tr th:only-of-type {\n",
       "        vertical-align: middle;\n",
       "    }\n",
       "\n",
       "    .dataframe tbody tr th {\n",
       "        vertical-align: top;\n",
       "    }\n",
       "\n",
       "    .dataframe thead th {\n",
       "        text-align: right;\n",
       "    }\n",
       "</style>\n",
       "<table border=\"1\" class=\"dataframe\">\n",
       "  <thead>\n",
       "    <tr style=\"text-align: right;\">\n",
       "      <th></th>\n",
       "      <th>Roll_ID</th>\n",
       "      <th>Time_since_last_pull</th>\n",
       "      <th>Sheets</th>\n",
       "    </tr>\n",
       "  </thead>\n",
       "  <tbody>\n",
       "    <tr>\n",
       "      <th>count</th>\n",
       "      <td>12785.000000</td>\n",
       "      <td>1.278500e+04</td>\n",
       "      <td>12785.000000</td>\n",
       "    </tr>\n",
       "    <tr>\n",
       "      <th>mean</th>\n",
       "      <td>10588.970747</td>\n",
       "      <td>6.551034e+03</td>\n",
       "      <td>4.802993</td>\n",
       "    </tr>\n",
       "    <tr>\n",
       "      <th>std</th>\n",
       "      <td>3361.010618</td>\n",
       "      <td>4.400347e+04</td>\n",
       "      <td>3.011595</td>\n",
       "    </tr>\n",
       "    <tr>\n",
       "      <th>min</th>\n",
       "      <td>-2557.000000</td>\n",
       "      <td>1.000000e+00</td>\n",
       "      <td>-11.188826</td>\n",
       "    </tr>\n",
       "    <tr>\n",
       "      <th>25%</th>\n",
       "      <td>10682.000000</td>\n",
       "      <td>1.100000e+01</td>\n",
       "      <td>2.726480</td>\n",
       "    </tr>\n",
       "    <tr>\n",
       "      <th>50%</th>\n",
       "      <td>11758.000000</td>\n",
       "      <td>4.660000e+02</td>\n",
       "      <td>4.654340</td>\n",
       "    </tr>\n",
       "    <tr>\n",
       "      <th>75%</th>\n",
       "      <td>12144.000000</td>\n",
       "      <td>7.757000e+03</td>\n",
       "      <td>6.749241</td>\n",
       "    </tr>\n",
       "    <tr>\n",
       "      <th>max</th>\n",
       "      <td>13655.000000</td>\n",
       "      <td>4.229427e+06</td>\n",
       "      <td>24.103288</td>\n",
       "    </tr>\n",
       "  </tbody>\n",
       "</table>\n",
       "</div>"
      ],
      "text/plain": [
       "            Roll_ID  Time_since_last_pull        Sheets\n",
       "count  12785.000000          1.278500e+04  12785.000000\n",
       "mean   10588.970747          6.551034e+03      4.802993\n",
       "std     3361.010618          4.400347e+04      3.011595\n",
       "min    -2557.000000          1.000000e+00    -11.188826\n",
       "25%    10682.000000          1.100000e+01      2.726480\n",
       "50%    11758.000000          4.660000e+02      4.654340\n",
       "75%    12144.000000          7.757000e+03      6.749241\n",
       "max    13655.000000          4.229427e+06     24.103288"
      ]
     },
     "execution_count": 76,
     "metadata": {},
     "output_type": "execute_result"
    }
   ],
   "source": [
    "tis.describe()"
   ]
  },
  {
   "cell_type": "code",
   "execution_count": 77,
   "metadata": {},
   "outputs": [
    {
     "data": {
      "text/plain": [
       "<function matplotlib.pyplot.show(*args, **kw)>"
      ]
     },
     "execution_count": 77,
     "metadata": {},
     "output_type": "execute_result"
    },
    {
     "data": {
      "image/png": "[encoded data removed]",
      "text/plain": [
       "<Figure size 432x288 with 1 Axes>"
      ]
     },
     "metadata": {
      "needs_background": "light"
     },
     "output_type": "display_data"
    }
   ],
   "source": [
    "#Checking distribution of variable 'Time_since_last_pull'\n",
    "sns.distplot(tis['Time_since_last_pull'])\n",
    "plt.show"
   ]
  },
  {
   "cell_type": "code",
   "execution_count": null,
   "metadata": {},
   "outputs": [],
   "source": [
    "#Since heavily skewed to right, We will use log transformation(all positive values)"
   ]
  },
  {
   "cell_type": "code",
   "execution_count": 116,
   "metadata": {},
   "outputs": [
    {
     "data": {
      "text/plain": [
       "<matplotlib.axes._subplots.AxesSubplot at 0x7fddb1ff6d50>"
      ]
     },
     "execution_count": 116,
     "metadata": {},
     "output_type": "execute_result"
    },
    {
     "data": {
      "image/png": "[encoded data removed]",
      "text/plain": [
       "<Figure size 432x288 with 1 Axes>"
      ]
     },
     "metadata": {
      "needs_background": "light"
     },
     "output_type": "display_data"
    }
   ],
   "source": [
    "tis['TSLP_log'] = np.log(tis['Time_since_last_pull'])\n",
    "\n",
    "sns.distplot(tis['TSLP_log'])"
   ]
  },
  {
   "cell_type": "code",
   "execution_count": 78,
   "metadata": {},
   "outputs": [
    {
     "data": {
      "image/png": "[encoded data removed]",
      "text/plain": [
       "<Figure size 432x288 with 1 Axes>"
      ]
     },
     "metadata": {
      "needs_background": "light"
     },
     "output_type": "display_data"
    }
   ],
   "source": [
    "#Checking distribution of variable 'Sheets'\n",
    "sns.distplot(tis['Sheets'])\n",
    "plt.show()"
   ]
  },
  {
   "cell_type": "code",
   "execution_count": 327,
   "metadata": {},
   "outputs": [],
   "source": [
    "\n",
    "mean = tis['Sheets'].mean()\n",
    "std = tis['Sheets'].std()\n",
    "\n",
    "tis['Sheets'] = tis['Sheets'].apply(lambda x: (x-mean)/std)"
   ]
  },
  {
   "cell_type": "code",
   "execution_count": 328,
   "metadata": {},
   "outputs": [
    {
     "data": {
      "text/plain": [
       "<function matplotlib.pyplot.show(*args, **kw)>"
      ]
     },
     "execution_count": 328,
     "metadata": {},
     "output_type": "execute_result"
    },
    {
     "data": {
      "image/png": "[encoded data removed]",
      "text/plain": [
       "<Figure size 432x288 with 1 Axes>"
      ]
     },
     "metadata": {},
     "output_type": "display_data"
    }
   ],
   "source": [
    "sns.distplot(tis['Sheets'])\n",
    "plt.show"
   ]
  },
  {
   "cell_type": "code",
   "execution_count": 131,
   "metadata": {},
   "outputs": [
    {
     "data": {
      "image/png": "[encoded data removed]",
      "text/plain": [
       "<Figure size 432x288 with 1 Axes>"
      ]
     },
     "metadata": {
      "needs_background": "light"
     },
     "output_type": "display_data"
    }
   ],
   "source": [
    "wcss = []\n",
    "X = standardized_data[['Time_since_last_pull', 'Sheets']].values\n",
    "for i in range(1, 11):\n",
    "    km = KMeans(n_clusters = i, init = 'k-means++', max_iter = 300, n_init = 10, random_state = 0)\n",
    "    km.fit(X)\n",
    "    wcss.append(km.inertia_)\n",
    "    \n",
    "plt.plot(range(1, 11), wcss)\n",
    "plt.title('The Elbow Method', fontsize = 20)\n",
    "plt.xlabel('No. of Clusters')\n",
    "plt.ylabel('wcss')\n",
    "plt.show()"
   ]
  },
  {
   "cell_type": "code",
   "execution_count": 308,
   "metadata": {},
   "outputs": [],
   "source": [
    "#How many clusters\n",
    "n_clusters = 4\n",
    "\n",
    "#Categorical features\n",
    "cat_features = ['Roll_ID', 'Roll_Type', 'HH_ID']\n",
    "\n",
    "\n",
    "#Turning categorical variables into dummy columns\n",
    "unstandardized_data = pd.get_dummies(tis, columns = cat_features, drop_first = True)"
   ]
  },
  {
   "cell_type": "code",
   "execution_count": 309,
   "metadata": {},
   "outputs": [],
   "source": [
    "\n",
    "# exclude categorical variables from standardization.\n",
    "cols_to_standardize = [\n",
    "  column for column in tis.columns\n",
    "    if column not in cat_features \n",
    "    \n",
    "    \n",
    "]\n",
    "data_to_standardize = unstandardized_data[cols_to_standardize]"
   ]
  },
  {
   "cell_type": "code",
   "execution_count": 310,
   "metadata": {},
   "outputs": [],
   "source": [
    "scaler = StandardScaler().fit(data_to_standardize)"
   ]
  },
  {
   "cell_type": "code",
   "execution_count": 311,
   "metadata": {},
   "outputs": [],
   "source": [
    "# Standardize the data\n",
    "standardized_data = unstandardized_data.copy()\n",
    "standardized_columns = scaler.transform(data_to_standardize)\n",
    "standardized_data[cols_to_standardize] = standardized_columns"
   ]
  },
  {
   "cell_type": "code",
   "execution_count": 312,
   "metadata": {},
   "outputs": [
    {
     "data": {
      "text/html": [
       "<div>\n",
       "<style scoped>\n",
       "    .dataframe tbody tr th:only-of-type {\n",
       "        vertical-align: middle;\n",
       "    }\n",
       "\n",
       "    .dataframe tbody tr th {\n",
       "        vertical-align: top;\n",
       "    }\n",
       "\n",
       "    .dataframe thead th {\n",
       "        text-align: right;\n",
       "    }\n",
       "</style>\n",
       "<table border=\"1\" class=\"dataframe\">\n",
       "  <thead>\n",
       "    <tr style=\"text-align: right;\">\n",
       "      <th></th>\n",
       "      <th>Time_since_last_pull</th>\n",
       "      <th>Sheets</th>\n",
       "      <th>Roll_ID_-1293</th>\n",
       "      <th>Roll_ID_-1286</th>\n",
       "      <th>Roll_ID_-1282</th>\n",
       "      <th>Roll_ID_-1154</th>\n",
       "      <th>Roll_ID_1200</th>\n",
       "      <th>Roll_ID_1202</th>\n",
       "      <th>Roll_ID_1203</th>\n",
       "      <th>Roll_ID_1204</th>\n",
       "      <th>...</th>\n",
       "      <th>Roll_ID_12553</th>\n",
       "      <th>Roll_ID_12640</th>\n",
       "      <th>Roll_ID_12730</th>\n",
       "      <th>Roll_ID_12835</th>\n",
       "      <th>Roll_ID_13015</th>\n",
       "      <th>Roll_ID_13655</th>\n",
       "      <th>Roll_Type_Small</th>\n",
       "      <th>HH_ID_B</th>\n",
       "      <th>HH_ID_C</th>\n",
       "      <th>HH_ID_D</th>\n",
       "    </tr>\n",
       "  </thead>\n",
       "  <tbody>\n",
       "    <tr>\n",
       "      <th>count</th>\n",
       "      <td>1.278500e+04</td>\n",
       "      <td>1.278500e+04</td>\n",
       "      <td>12785.000000</td>\n",
       "      <td>12785.000000</td>\n",
       "      <td>12785.000000</td>\n",
       "      <td>12785.000000</td>\n",
       "      <td>12785.000000</td>\n",
       "      <td>12785.000000</td>\n",
       "      <td>12785.000000</td>\n",
       "      <td>12785.000000</td>\n",
       "      <td>...</td>\n",
       "      <td>12785.000000</td>\n",
       "      <td>12785.000000</td>\n",
       "      <td>12785.000000</td>\n",
       "      <td>12785.000000</td>\n",
       "      <td>12785.000000</td>\n",
       "      <td>12785.000000</td>\n",
       "      <td>12785.000000</td>\n",
       "      <td>12785.000000</td>\n",
       "      <td>12785.000000</td>\n",
       "      <td>12785.000000</td>\n",
       "    </tr>\n",
       "    <tr>\n",
       "      <th>mean</th>\n",
       "      <td>1.737432e-16</td>\n",
       "      <td>-5.404272e-16</td>\n",
       "      <td>0.005788</td>\n",
       "      <td>0.006023</td>\n",
       "      <td>0.005006</td>\n",
       "      <td>0.004302</td>\n",
       "      <td>0.006179</td>\n",
       "      <td>0.005475</td>\n",
       "      <td>0.005553</td>\n",
       "      <td>0.005006</td>\n",
       "      <td>...</td>\n",
       "      <td>0.024638</td>\n",
       "      <td>0.030739</td>\n",
       "      <td>0.030974</td>\n",
       "      <td>0.032460</td>\n",
       "      <td>0.030817</td>\n",
       "      <td>0.020806</td>\n",
       "      <td>0.107704</td>\n",
       "      <td>0.201877</td>\n",
       "      <td>0.204771</td>\n",
       "      <td>0.496598</td>\n",
       "    </tr>\n",
       "    <tr>\n",
       "      <th>std</th>\n",
       "      <td>1.000039e+00</td>\n",
       "      <td>1.000039e+00</td>\n",
       "      <td>0.075862</td>\n",
       "      <td>0.077375</td>\n",
       "      <td>0.070578</td>\n",
       "      <td>0.065450</td>\n",
       "      <td>0.078367</td>\n",
       "      <td>0.073794</td>\n",
       "      <td>0.074317</td>\n",
       "      <td>0.070578</td>\n",
       "      <td>...</td>\n",
       "      <td>0.155026</td>\n",
       "      <td>0.172617</td>\n",
       "      <td>0.173253</td>\n",
       "      <td>0.177225</td>\n",
       "      <td>0.172829</td>\n",
       "      <td>0.142739</td>\n",
       "      <td>0.310019</td>\n",
       "      <td>0.401417</td>\n",
       "      <td>0.403550</td>\n",
       "      <td>0.500008</td>\n",
       "    </tr>\n",
       "    <tr>\n",
       "      <th>min</th>\n",
       "      <td>-1.488585e-01</td>\n",
       "      <td>-5.310290e+00</td>\n",
       "      <td>0.000000</td>\n",
       "      <td>0.000000</td>\n",
       "      <td>0.000000</td>\n",
       "      <td>0.000000</td>\n",
       "      <td>0.000000</td>\n",
       "      <td>0.000000</td>\n",
       "      <td>0.000000</td>\n",
       "      <td>0.000000</td>\n",
       "      <td>...</td>\n",
       "      <td>0.000000</td>\n",
       "      <td>0.000000</td>\n",
       "      <td>0.000000</td>\n",
       "      <td>0.000000</td>\n",
       "      <td>0.000000</td>\n",
       "      <td>0.000000</td>\n",
       "      <td>0.000000</td>\n",
       "      <td>0.000000</td>\n",
       "      <td>0.000000</td>\n",
       "      <td>0.000000</td>\n",
       "    </tr>\n",
       "    <tr>\n",
       "      <th>25%</th>\n",
       "      <td>-1.486312e-01</td>\n",
       "      <td>-6.895329e-01</td>\n",
       "      <td>0.000000</td>\n",
       "      <td>0.000000</td>\n",
       "      <td>0.000000</td>\n",
       "      <td>0.000000</td>\n",
       "      <td>0.000000</td>\n",
       "      <td>0.000000</td>\n",
       "      <td>0.000000</td>\n",
       "      <td>0.000000</td>\n",
       "      <td>...</td>\n",
       "      <td>0.000000</td>\n",
       "      <td>0.000000</td>\n",
       "      <td>0.000000</td>\n",
       "      <td>0.000000</td>\n",
       "      <td>0.000000</td>\n",
       "      <td>0.000000</td>\n",
       "      <td>0.000000</td>\n",
       "      <td>0.000000</td>\n",
       "      <td>0.000000</td>\n",
       "      <td>0.000000</td>\n",
       "    </tr>\n",
       "    <tr>\n",
       "      <th>50%</th>\n",
       "      <td>-1.382907e-01</td>\n",
       "      <td>-4.936208e-02</td>\n",
       "      <td>0.000000</td>\n",
       "      <td>0.000000</td>\n",
       "      <td>0.000000</td>\n",
       "      <td>0.000000</td>\n",
       "      <td>0.000000</td>\n",
       "      <td>0.000000</td>\n",
       "      <td>0.000000</td>\n",
       "      <td>0.000000</td>\n",
       "      <td>...</td>\n",
       "      <td>0.000000</td>\n",
       "      <td>0.000000</td>\n",
       "      <td>0.000000</td>\n",
       "      <td>0.000000</td>\n",
       "      <td>0.000000</td>\n",
       "      <td>0.000000</td>\n",
       "      <td>0.000000</td>\n",
       "      <td>0.000000</td>\n",
       "      <td>0.000000</td>\n",
       "      <td>0.000000</td>\n",
       "    </tr>\n",
       "    <tr>\n",
       "      <th>75%</th>\n",
       "      <td>2.740722e-02</td>\n",
       "      <td>6.462769e-01</td>\n",
       "      <td>0.000000</td>\n",
       "      <td>0.000000</td>\n",
       "      <td>0.000000</td>\n",
       "      <td>0.000000</td>\n",
       "      <td>0.000000</td>\n",
       "      <td>0.000000</td>\n",
       "      <td>0.000000</td>\n",
       "      <td>0.000000</td>\n",
       "      <td>...</td>\n",
       "      <td>0.000000</td>\n",
       "      <td>0.000000</td>\n",
       "      <td>0.000000</td>\n",
       "      <td>0.000000</td>\n",
       "      <td>0.000000</td>\n",
       "      <td>0.000000</td>\n",
       "      <td>0.000000</td>\n",
       "      <td>0.000000</td>\n",
       "      <td>0.000000</td>\n",
       "      <td>1.000000</td>\n",
       "    </tr>\n",
       "    <tr>\n",
       "      <th>max</th>\n",
       "      <td>9.597063e+01</td>\n",
       "      <td>6.408913e+00</td>\n",
       "      <td>1.000000</td>\n",
       "      <td>1.000000</td>\n",
       "      <td>1.000000</td>\n",
       "      <td>1.000000</td>\n",
       "      <td>1.000000</td>\n",
       "      <td>1.000000</td>\n",
       "      <td>1.000000</td>\n",
       "      <td>1.000000</td>\n",
       "      <td>...</td>\n",
       "      <td>1.000000</td>\n",
       "      <td>1.000000</td>\n",
       "      <td>1.000000</td>\n",
       "      <td>1.000000</td>\n",
       "      <td>1.000000</td>\n",
       "      <td>1.000000</td>\n",
       "      <td>1.000000</td>\n",
       "      <td>1.000000</td>\n",
       "      <td>1.000000</td>\n",
       "      <td>1.000000</td>\n",
       "    </tr>\n",
       "  </tbody>\n",
       "</table>\n",
       "<p>8 rows × 60 columns</p>\n",
       "</div>"
      ],
      "text/plain": [
       "       Time_since_last_pull        Sheets  Roll_ID_-1293  Roll_ID_-1286  \\\n",
       "count          1.278500e+04  1.278500e+04   12785.000000   12785.000000   \n",
       "mean           1.737432e-16 -5.404272e-16       0.005788       0.006023   \n",
       "std            1.000039e+00  1.000039e+00       0.075862       0.077375   \n",
       "min           -1.488585e-01 -5.310290e+00       0.000000       0.000000   \n",
       "25%           -1.486312e-01 -6.895329e-01       0.000000       0.000000   \n",
       "50%           -1.382907e-01 -4.936208e-02       0.000000       0.000000   \n",
       "75%            2.740722e-02  6.462769e-01       0.000000       0.000000   \n",
       "max            9.597063e+01  6.408913e+00       1.000000       1.000000   \n",
       "\n",
       "       Roll_ID_-1282  Roll_ID_-1154  Roll_ID_1200  Roll_ID_1202  Roll_ID_1203  \\\n",
       "count   12785.000000   12785.000000  12785.000000  12785.000000  12785.000000   \n",
       "mean        0.005006       0.004302      0.006179      0.005475      0.005553   \n",
       "std         0.070578       0.065450      0.078367      0.073794      0.074317   \n",
       "min         0.000000       0.000000      0.000000      0.000000      0.000000   \n",
       "25%         0.000000       0.000000      0.000000      0.000000      0.000000   \n",
       "50%         0.000000       0.000000      0.000000      0.000000      0.000000   \n",
       "75%         0.000000       0.000000      0.000000      0.000000      0.000000   \n",
       "max         1.000000       1.000000      1.000000      1.000000      1.000000   \n",
       "\n",
       "       Roll_ID_1204  ...  Roll_ID_12553  Roll_ID_12640  Roll_ID_12730  \\\n",
       "count  12785.000000  ...   12785.000000   12785.000000   12785.000000   \n",
       "mean       0.005006  ...       0.024638       0.030739       0.030974   \n",
       "std        0.070578  ...       0.155026       0.172617       0.173253   \n",
       "min        0.000000  ...       0.000000       0.000000       0.000000   \n",
       "25%        0.000000  ...       0.000000       0.000000       0.000000   \n",
       "50%        0.000000  ...       0.000000       0.000000       0.000000   \n",
       "75%        0.000000  ...       0.000000       0.000000       0.000000   \n",
       "max        1.000000  ...       1.000000       1.000000       1.000000   \n",
       "\n",
       "       Roll_ID_12835  Roll_ID_13015  Roll_ID_13655  Roll_Type_Small  \\\n",
       "count   12785.000000   12785.000000   12785.000000     12785.000000   \n",
       "mean        0.032460       0.030817       0.020806         0.107704   \n",
       "std         0.177225       0.172829       0.142739         0.310019   \n",
       "min         0.000000       0.000000       0.000000         0.000000   \n",
       "25%         0.000000       0.000000       0.000000         0.000000   \n",
       "50%         0.000000       0.000000       0.000000         0.000000   \n",
       "75%         0.000000       0.000000       0.000000         0.000000   \n",
       "max         1.000000       1.000000       1.000000         1.000000   \n",
       "\n",
       "            HH_ID_B       HH_ID_C       HH_ID_D  \n",
       "count  12785.000000  12785.000000  12785.000000  \n",
       "mean       0.201877      0.204771      0.496598  \n",
       "std        0.401417      0.403550      0.500008  \n",
       "min        0.000000      0.000000      0.000000  \n",
       "25%        0.000000      0.000000      0.000000  \n",
       "50%        0.000000      0.000000      0.000000  \n",
       "75%        0.000000      0.000000      1.000000  \n",
       "max        1.000000      1.000000      1.000000  \n",
       "\n",
       "[8 rows x 60 columns]"
      ]
     },
     "execution_count": 312,
     "metadata": {},
     "output_type": "execute_result"
    }
   ],
   "source": [
    "standardized_data.describe()"
   ]
  },
  {
   "cell_type": "code",
   "execution_count": 313,
   "metadata": {},
   "outputs": [],
   "source": [
    "#fitting model\n",
    "km = KMeans(n_clusters = n_clusters).fit(standardized_data)"
   ]
  },
  {
   "cell_type": "code",
   "execution_count": 314,
   "metadata": {},
   "outputs": [
    {
     "name": "stdout",
     "output_type": "stream",
     "text": [
      "         Time_since_last_pull    Sheets  Roll_ID_-1293  Roll_ID_-1286  \\\n",
      "cluster                                                                 \n",
      "3                4.464471e+03  1.901401       0.003948       0.007019   \n",
      "1                9.035203e+03  4.902178       0.013023       0.010465   \n",
      "0                4.637222e+03  8.067691       0.000000       0.000000   \n",
      "2                3.176808e+06  0.398233       0.000000       0.000000   \n",
      "\n",
      "         Roll_ID_-1282  Roll_ID_-1154  Roll_ID_1200  Roll_ID_1202  \\\n",
      "cluster                                                             \n",
      "3             0.003729       0.002852      0.010309      0.007896   \n",
      "1             0.010930       0.008837      0.007209      0.006047   \n",
      "0             0.000000       0.001019      0.000255      0.002039   \n",
      "2             0.000000       0.000000      0.000000      0.000000   \n",
      "\n",
      "         Roll_ID_1203  Roll_ID_1204  ...  Roll_ID_12640  Roll_ID_12730  \\\n",
      "cluster                              ...                                 \n",
      "3            0.006361      0.007238  ...       0.020180       0.020180   \n",
      "1            0.009535      0.005581  ...       0.067907       0.066047   \n",
      "0            0.000255      0.001784  ...       0.002294       0.005097   \n",
      "2            0.000000      0.000000  ...       0.000000       0.000000   \n",
      "\n",
      "         Roll_ID_12835  Roll_ID_13015  Roll_ID_13655  Roll_Type_Small  \\\n",
      "cluster                                                                 \n",
      "3             0.020619       0.017767       0.024128         0.149156   \n",
      "1             0.074186       0.072326       0.000000         0.147674   \n",
      "0             0.000510       0.000510       0.039755         0.015800   \n",
      "2             0.000000       0.000000       0.000000         0.000000   \n",
      "\n",
      "          HH_ID_B   HH_ID_C   HH_ID_D  count  \n",
      "cluster                                       \n",
      "3        0.146085  0.133582  0.610222   4559  \n",
      "1        0.430233  0.425814  0.000000   4300  \n",
      "0        0.016565  0.044852  0.909021   3924  \n",
      "2        0.000000  1.000000  0.000000      2  \n",
      "\n",
      "[4 rows x 61 columns]\n"
     ]
    }
   ],
   "source": [
    "unstandardized_data['cluster'] = km.predict(standardized_data)\n",
    "summary = unstandardized_data.groupby(['cluster']).mean()\n",
    "summary['count'] = unstandardized_data['cluster'].value_counts()\n",
    "summary = summary.sort_values(by='count', ascending=False)\n",
    "print(summary)"
   ]
  },
  {
   "cell_type": "code",
   "execution_count": 315,
   "metadata": {},
   "outputs": [],
   "source": [
    "X = standardized_data[['Time_since_last_pull', 'Sheets']].values\n",
    "predictions = km.fit_predict(X)"
   ]
  },
  {
   "cell_type": "code",
   "execution_count": 324,
   "metadata": {},
   "outputs": [
    {
     "data": {
      "image/png": "[encoded data removed]",
      "text/plain": [
       "<Figure size 576x576 with 1 Axes>"
      ]
     },
     "metadata": {},
     "output_type": "display_data"
    }
   ],
   "source": [
    "def draw_clusters(standardized_data, predictions, cmap='viridis'):\n",
    "    fig = plt.figure(figsize=(8,8))\n",
    "    ax = fig.add_subplot(111)\n",
    "    plt.xlim(0, 20)\n",
    "    plt.ylim(-4, 6)\n",
    "    ax.set_xlabel('Time_since_last_pull')\n",
    "    ax.set_ylabel('Sheets')\n",
    "    clustered = pd.concat([standardized_data.reset_index(), pd.DataFrame({'group':predictions})], axis=1)\n",
    "    plt.scatter(clustered['Time_since_last_pull'], clustered['Sheets'], c=clustered['group'], s=20)\n",
    "# Plot\n",
    "draw_clusters(standardized_data, predictions)"
   ]
  },
  {
   "cell_type": "code",
   "execution_count": 325,
   "metadata": {},
   "outputs": [
    {
     "data": {
      "image/png": "[encoded data removed]",
      "text/plain": [
       "<Figure size 432x288 with 1 Axes>"
      ]
     },
     "metadata": {},
     "output_type": "display_data"
    }
   ],
   "source": [
    "km = KMeans(n_clusters = 4, init = 'k-means++', max_iter = 300, n_init = 10, random_state = 0)\n",
    "y_means = km.fit_predict(X)\n",
    "\n",
    "plt.scatter(X[y_means == 0, 0], X[y_means == 0, 1], s = 100, c = 'blue', label = 'other')\n",
    "plt.scatter(X[y_means == 1, 0], X[y_means == 1, 1], s = 100, c = 'black', label = 'unknown')\n",
    "plt.scatter(X[y_means == 2, 0], X[y_means == 2, 1], s = 100, c = 'yellow', label = 'poop')\n",
    "plt.scatter(X[y_means == 3, 0], X[y_means == 3, 1], s = 100, c = 'purple', label = 'urine')\n",
    "#plt.scatter(X[y_means == 4, 0], X[y_means == 4, 1], s = 100, c = 'orange', label = 'careful')\n",
    "plt.scatter(km.cluster_centers_[:,0], km.cluster_centers_[:, 1], s = 50, c = 'blue' , label = 'centeroid')\n",
    "\n",
    "plt.style.use('fivethirtyeight')\n",
    "plt.title('K Means Clustering', fontsize = 20)\n",
    "plt.xlabel('Time since last pull')\n",
    "plt.ylabel('Sheets')\n",
    "plt.legend()\n",
    "plt.grid()\n",
    "plt.show()"
   ]
  },
  {
   "cell_type": "code",
   "execution_count": 321,
   "metadata": {},
   "outputs": [
    {
     "data": {
      "text/plain": [
       "95.97063114349176"
      ]
     },
     "execution_count": 321,
     "metadata": {},
     "output_type": "execute_result"
    }
   ],
   "source": [
    "standardized_data.Time_since_last_pull.max()"
   ]
  },
  {
   "cell_type": "code",
   "execution_count": 227,
   "metadata": {},
   "outputs": [],
   "source": [
    "######################################Starting again with merged datasets"
   ]
  },
  {
   "cell_type": "code",
   "execution_count": 287,
   "metadata": {},
   "outputs": [],
   "source": [
    "demo = pd.read_csv('DemographicData.csv')\n",
    "tis2=demo.merge(tis,how='right' )"
   ]
  },
  {
   "cell_type": "code",
   "execution_count": 288,
   "metadata": {},
   "outputs": [
    {
     "data": {
      "text/html": [
       "<div>\n",
       "<style scoped>\n",
       "    .dataframe tbody tr th:only-of-type {\n",
       "        vertical-align: middle;\n",
       "    }\n",
       "\n",
       "    .dataframe tbody tr th {\n",
       "        vertical-align: top;\n",
       "    }\n",
       "\n",
       "    .dataframe thead th {\n",
       "        text-align: right;\n",
       "    }\n",
       "</style>\n",
       "<table border=\"1\" class=\"dataframe\">\n",
       "  <thead>\n",
       "    <tr style=\"text-align: right;\">\n",
       "      <th></th>\n",
       "      <th>HH_ID</th>\n",
       "      <th>HH_Size</th>\n",
       "      <th>Member1_Age</th>\n",
       "      <th>Member1_Gender</th>\n",
       "      <th>Member2_Gender</th>\n",
       "      <th>Roll_ID</th>\n",
       "      <th>Roll_Type</th>\n",
       "      <th>Time_since_last_pull</th>\n",
       "      <th>Sheets</th>\n",
       "    </tr>\n",
       "  </thead>\n",
       "  <tbody>\n",
       "    <tr>\n",
       "      <th>0</th>\n",
       "      <td>A</td>\n",
       "      <td>2</td>\n",
       "      <td>30-34</td>\n",
       "      <td>Male</td>\n",
       "      <td>Female</td>\n",
       "      <td>1200</td>\n",
       "      <td>Small</td>\n",
       "      <td>4282.0</td>\n",
       "      <td>3.991088</td>\n",
       "    </tr>\n",
       "    <tr>\n",
       "      <th>1</th>\n",
       "      <td>A</td>\n",
       "      <td>2</td>\n",
       "      <td>30-34</td>\n",
       "      <td>Male</td>\n",
       "      <td>Female</td>\n",
       "      <td>1200</td>\n",
       "      <td>Small</td>\n",
       "      <td>2505.0</td>\n",
       "      <td>0.477180</td>\n",
       "    </tr>\n",
       "    <tr>\n",
       "      <th>2</th>\n",
       "      <td>A</td>\n",
       "      <td>2</td>\n",
       "      <td>30-34</td>\n",
       "      <td>Male</td>\n",
       "      <td>Female</td>\n",
       "      <td>1200</td>\n",
       "      <td>Small</td>\n",
       "      <td>2394.0</td>\n",
       "      <td>4.277735</td>\n",
       "    </tr>\n",
       "    <tr>\n",
       "      <th>3</th>\n",
       "      <td>A</td>\n",
       "      <td>2</td>\n",
       "      <td>30-34</td>\n",
       "      <td>Male</td>\n",
       "      <td>Female</td>\n",
       "      <td>1200</td>\n",
       "      <td>Small</td>\n",
       "      <td>14200.0</td>\n",
       "      <td>2.363388</td>\n",
       "    </tr>\n",
       "    <tr>\n",
       "      <th>4</th>\n",
       "      <td>A</td>\n",
       "      <td>2</td>\n",
       "      <td>30-34</td>\n",
       "      <td>Male</td>\n",
       "      <td>Female</td>\n",
       "      <td>1200</td>\n",
       "      <td>Small</td>\n",
       "      <td>828.0</td>\n",
       "      <td>0.314410</td>\n",
       "    </tr>\n",
       "  </tbody>\n",
       "</table>\n",
       "</div>"
      ],
      "text/plain": [
       "  HH_ID  HH_Size Member1_Age Member1_Gender Member2_Gender  Roll_ID Roll_Type  \\\n",
       "0     A        2       30-34           Male         Female     1200     Small   \n",
       "1     A        2       30-34           Male         Female     1200     Small   \n",
       "2     A        2       30-34           Male         Female     1200     Small   \n",
       "3     A        2       30-34           Male         Female     1200     Small   \n",
       "4     A        2       30-34           Male         Female     1200     Small   \n",
       "\n",
       "   Time_since_last_pull    Sheets  \n",
       "0                4282.0  3.991088  \n",
       "1                2505.0  0.477180  \n",
       "2                2394.0  4.277735  \n",
       "3               14200.0  2.363388  \n",
       "4                 828.0  0.314410  "
      ]
     },
     "execution_count": 288,
     "metadata": {},
     "output_type": "execute_result"
    }
   ],
   "source": [
    "tis2.head()"
   ]
  },
  {
   "cell_type": "code",
   "execution_count": 289,
   "metadata": {},
   "outputs": [],
   "source": [
    "#feature engineering variable 'Member1_age' by averaging\n",
    "tis2['min_age'] = tis2['Member1_Age'].apply(lambda x: int(x.split('-')[0]))\n",
    "tis2['max_age'] = tis2['Member1_Age'].apply(lambda x: int(x.split('-')[1]))\n",
    "tis2['Member1_average_age'] = (tis2.min_age + tis2.max_age) /2"
   ]
  },
  {
   "cell_type": "code",
   "execution_count": 276,
   "metadata": {},
   "outputs": [
    {
     "data": {
      "text/html": [
       "<div>\n",
       "<style scoped>\n",
       "    .dataframe tbody tr th:only-of-type {\n",
       "        vertical-align: middle;\n",
       "    }\n",
       "\n",
       "    .dataframe tbody tr th {\n",
       "        vertical-align: top;\n",
       "    }\n",
       "\n",
       "    .dataframe thead th {\n",
       "        text-align: right;\n",
       "    }\n",
       "</style>\n",
       "<table border=\"1\" class=\"dataframe\">\n",
       "  <thead>\n",
       "    <tr style=\"text-align: right;\">\n",
       "      <th></th>\n",
       "      <th>HH_ID</th>\n",
       "      <th>HH_Size</th>\n",
       "      <th>Member1_Age</th>\n",
       "      <th>Member1_Gender</th>\n",
       "      <th>Member2_Gender</th>\n",
       "      <th>Roll_ID</th>\n",
       "      <th>Roll_Type</th>\n",
       "      <th>Time_since_last_pull</th>\n",
       "      <th>Sheets</th>\n",
       "      <th>min_age</th>\n",
       "      <th>max_age</th>\n",
       "      <th>Member1_average_age</th>\n",
       "    </tr>\n",
       "  </thead>\n",
       "  <tbody>\n",
       "    <tr>\n",
       "      <th>0</th>\n",
       "      <td>A</td>\n",
       "      <td>2</td>\n",
       "      <td>30-34</td>\n",
       "      <td>Male</td>\n",
       "      <td>Female</td>\n",
       "      <td>1200</td>\n",
       "      <td>Small</td>\n",
       "      <td>4282.0</td>\n",
       "      <td>3.991088</td>\n",
       "      <td>30</td>\n",
       "      <td>34</td>\n",
       "      <td>32.0</td>\n",
       "    </tr>\n",
       "    <tr>\n",
       "      <th>1</th>\n",
       "      <td>A</td>\n",
       "      <td>2</td>\n",
       "      <td>30-34</td>\n",
       "      <td>Male</td>\n",
       "      <td>Female</td>\n",
       "      <td>1200</td>\n",
       "      <td>Small</td>\n",
       "      <td>2505.0</td>\n",
       "      <td>0.477180</td>\n",
       "      <td>30</td>\n",
       "      <td>34</td>\n",
       "      <td>32.0</td>\n",
       "    </tr>\n",
       "    <tr>\n",
       "      <th>2</th>\n",
       "      <td>A</td>\n",
       "      <td>2</td>\n",
       "      <td>30-34</td>\n",
       "      <td>Male</td>\n",
       "      <td>Female</td>\n",
       "      <td>1200</td>\n",
       "      <td>Small</td>\n",
       "      <td>2394.0</td>\n",
       "      <td>4.277735</td>\n",
       "      <td>30</td>\n",
       "      <td>34</td>\n",
       "      <td>32.0</td>\n",
       "    </tr>\n",
       "    <tr>\n",
       "      <th>3</th>\n",
       "      <td>A</td>\n",
       "      <td>2</td>\n",
       "      <td>30-34</td>\n",
       "      <td>Male</td>\n",
       "      <td>Female</td>\n",
       "      <td>1200</td>\n",
       "      <td>Small</td>\n",
       "      <td>14200.0</td>\n",
       "      <td>2.363388</td>\n",
       "      <td>30</td>\n",
       "      <td>34</td>\n",
       "      <td>32.0</td>\n",
       "    </tr>\n",
       "    <tr>\n",
       "      <th>4</th>\n",
       "      <td>A</td>\n",
       "      <td>2</td>\n",
       "      <td>30-34</td>\n",
       "      <td>Male</td>\n",
       "      <td>Female</td>\n",
       "      <td>1200</td>\n",
       "      <td>Small</td>\n",
       "      <td>828.0</td>\n",
       "      <td>0.314410</td>\n",
       "      <td>30</td>\n",
       "      <td>34</td>\n",
       "      <td>32.0</td>\n",
       "    </tr>\n",
       "  </tbody>\n",
       "</table>\n",
       "</div>"
      ],
      "text/plain": [
       "  HH_ID  HH_Size Member1_Age Member1_Gender Member2_Gender  Roll_ID Roll_Type  \\\n",
       "0     A        2       30-34           Male         Female     1200     Small   \n",
       "1     A        2       30-34           Male         Female     1200     Small   \n",
       "2     A        2       30-34           Male         Female     1200     Small   \n",
       "3     A        2       30-34           Male         Female     1200     Small   \n",
       "4     A        2       30-34           Male         Female     1200     Small   \n",
       "\n",
       "   Time_since_last_pull    Sheets  min_age  max_age  Member1_average_age  \n",
       "0                4282.0  3.991088       30       34                 32.0  \n",
       "1                2505.0  0.477180       30       34                 32.0  \n",
       "2                2394.0  4.277735       30       34                 32.0  \n",
       "3               14200.0  2.363388       30       34                 32.0  \n",
       "4                 828.0  0.314410       30       34                 32.0  "
      ]
     },
     "execution_count": 276,
     "metadata": {},
     "output_type": "execute_result"
    }
   ],
   "source": [
    "tis2.head()"
   ]
  },
  {
   "cell_type": "code",
   "execution_count": 207,
   "metadata": {},
   "outputs": [
    {
     "data": {
      "text/html": [
       "<div>\n",
       "<style scoped>\n",
       "    .dataframe tbody tr th:only-of-type {\n",
       "        vertical-align: middle;\n",
       "    }\n",
       "\n",
       "    .dataframe tbody tr th {\n",
       "        vertical-align: top;\n",
       "    }\n",
       "\n",
       "    .dataframe thead th {\n",
       "        text-align: right;\n",
       "    }\n",
       "</style>\n",
       "<table border=\"1\" class=\"dataframe\">\n",
       "  <thead>\n",
       "    <tr style=\"text-align: right;\">\n",
       "      <th></th>\n",
       "      <th>HH_Size</th>\n",
       "      <th>Roll_ID</th>\n",
       "      <th>Time_since_last_pull</th>\n",
       "      <th>Sheets</th>\n",
       "      <th>TSLP_log</th>\n",
       "      <th>min_age</th>\n",
       "      <th>max_age</th>\n",
       "    </tr>\n",
       "    <tr>\n",
       "      <th>Member1_average_age</th>\n",
       "      <th></th>\n",
       "      <th></th>\n",
       "      <th></th>\n",
       "      <th></th>\n",
       "      <th></th>\n",
       "      <th></th>\n",
       "      <th></th>\n",
       "    </tr>\n",
       "  </thead>\n",
       "  <tbody>\n",
       "    <tr>\n",
       "      <th>27.0</th>\n",
       "      <td>2.0</td>\n",
       "      <td>11205.468420</td>\n",
       "      <td>4390.428099</td>\n",
       "      <td>5.516486</td>\n",
       "      <td>4.970115</td>\n",
       "      <td>25.0</td>\n",
       "      <td>29.0</td>\n",
       "    </tr>\n",
       "    <tr>\n",
       "      <th>32.0</th>\n",
       "      <td>2.0</td>\n",
       "      <td>7169.599838</td>\n",
       "      <td>8648.768795</td>\n",
       "      <td>4.062042</td>\n",
       "      <td>6.135065</td>\n",
       "      <td>30.0</td>\n",
       "      <td>34.0</td>\n",
       "    </tr>\n",
       "    <tr>\n",
       "      <th>57.0</th>\n",
       "      <td>2.0</td>\n",
       "      <td>11336.021310</td>\n",
       "      <td>7851.660597</td>\n",
       "      <td>3.912689</td>\n",
       "      <td>6.683186</td>\n",
       "      <td>55.0</td>\n",
       "      <td>59.0</td>\n",
       "    </tr>\n",
       "    <tr>\n",
       "      <th>62.0</th>\n",
       "      <td>2.0</td>\n",
       "      <td>9973.035141</td>\n",
       "      <td>9517.373950</td>\n",
       "      <td>4.300497</td>\n",
       "      <td>6.336272</td>\n",
       "      <td>60.0</td>\n",
       "      <td>64.0</td>\n",
       "    </tr>\n",
       "  </tbody>\n",
       "</table>\n",
       "</div>"
      ],
      "text/plain": [
       "                     HH_Size       Roll_ID  Time_since_last_pull    Sheets  \\\n",
       "Member1_average_age                                                          \n",
       "27.0                     2.0  11205.468420           4390.428099  5.516486   \n",
       "32.0                     2.0   7169.599838           8648.768795  4.062042   \n",
       "57.0                     2.0  11336.021310           7851.660597  3.912689   \n",
       "62.0                     2.0   9973.035141           9517.373950  4.300497   \n",
       "\n",
       "                     TSLP_log  min_age  max_age  \n",
       "Member1_average_age                              \n",
       "27.0                 4.970115     25.0     29.0  \n",
       "32.0                 6.135065     30.0     34.0  \n",
       "57.0                 6.683186     55.0     59.0  \n",
       "62.0                 6.336272     60.0     64.0  "
      ]
     },
     "execution_count": 207,
     "metadata": {},
     "output_type": "execute_result"
    }
   ],
   "source": [
    "# Roll type \n",
    "\n",
    "tis2.groupby('Member1_average_age').mean()"
   ]
  },
  {
   "cell_type": "code",
   "execution_count": 294,
   "metadata": {},
   "outputs": [],
   "source": [
    "from sklearn.decomposition import PCA\n",
    "pca = PCA(0.95)\n",
    "principalComponents = pca.fit_transform(standardized_data)\n",
    "#principalDf = pd.DataFrame(data = principalComponents\n",
    "            # , columns = ['principal component 1', 'principal component 2'])\n",
    "principalDf = pd.DataFrame(data = principalComponents)"
   ]
  },
  {
   "cell_type": "code",
   "execution_count": 295,
   "metadata": {},
   "outputs": [],
   "source": [
    "from sklearn.metrics import silhouette_score\n",
    "score = silhouette_score(standardized_data, labels = predictions)"
   ]
  },
  {
   "cell_type": "code",
   "execution_count": 296,
   "metadata": {},
   "outputs": [
    {
     "data": {
      "text/plain": [
       "0.09941121035273714"
      ]
     },
     "execution_count": 296,
     "metadata": {},
     "output_type": "execute_result"
    }
   ],
   "source": [
    "score"
   ]
  },
  {
   "cell_type": "code",
   "execution_count": 297,
   "metadata": {},
   "outputs": [],
   "source": [
    "from sklearn.metrics import silhouette_score\n",
    "score = silhouette_score(principalDf, labels = predictions)"
   ]
  },
  {
   "cell_type": "code",
   "execution_count": 298,
   "metadata": {},
   "outputs": [
    {
     "data": {
      "text/plain": [
       "0.10860928370326926"
      ]
     },
     "execution_count": 298,
     "metadata": {},
     "output_type": "execute_result"
    }
   ],
   "source": [
    "score"
   ]
  },
  {
   "cell_type": "code",
   "execution_count": null,
   "metadata": {},
   "outputs": [],
   "source": []
  },
  {
   "cell_type": "code",
   "execution_count": 277,
   "metadata": {},
   "outputs": [],
   "source": []
  },
  {
   "cell_type": "code",
   "execution_count": null,
   "metadata": {},
   "outputs": [],
   "source": []
  },
  {
   "cell_type": "code",
   "execution_count": null,
   "metadata": {},
   "outputs": [],
   "source": []
  },
  {
   "cell_type": "code",
   "execution_count": null,
   "metadata": {},
   "outputs": [],
   "source": []
  },
  {
   "cell_type": "code",
   "execution_count": null,
   "metadata": {},
   "outputs": [],
   "source": []
  },
  {
   "cell_type": "code",
   "execution_count": null,
   "metadata": {},
   "outputs": [],
   "source": []
  }
 ],
 "metadata": {
  "kernelspec": {
   "display_name": "Python 3",
   "language": "python",
   "name": "python3"
  },
  "language_info": {
   "codemirror_mode": {
    "name": "ipython",
    "version": 3
   },
   "file_extension": ".py",
   "mimetype": "text/x-python",
   "name": "python",
   "nbconvert_exporter": "python",
   "pygments_lexer": "ipython3",
   "version": "3.7.6"
  }
 },
 "nbformat": 4,
 "nbformat_minor": 4
}
